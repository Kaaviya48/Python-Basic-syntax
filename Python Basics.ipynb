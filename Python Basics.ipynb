{
 "cells": [
  {
   "cell_type": "code",
   "execution_count": 1,
   "metadata": {},
   "outputs": [
    {
     "name": "stdout",
     "output_type": "stream",
     "text": [
      "True\n"
     ]
    }
   ],
   "source": [
    "def myfunction(a,b):\n",
    "    if a%b==0:\n",
    "        return True\n",
    "    else:\n",
    "        return False\n",
    "x=myfunction(10,5)\n",
    "print(x)"
   ]
  },
  {
   "cell_type": "code",
   "execution_count": 2,
   "metadata": {},
   "outputs": [
    {
     "name": "stdout",
     "output_type": "stream",
     "text": [
      "THE WORLD IS RANDOM.LOGIC IS FANTASY\n"
     ]
    }
   ],
   "source": [
    "str1='the world is random.logic is fantasy'\n",
    "str2 = str1.upper()\n",
    "print(str2)"
   ]
  },
  {
   "cell_type": "code",
   "execution_count": 3,
   "metadata": {},
   "outputs": [
    {
     "name": "stdout",
     "output_type": "stream",
     "text": [
      "The World Is Random.Logic Is Fantasy\n"
     ]
    }
   ],
   "source": [
    "str1='the world is random.logic is fantasy'\n",
    "print(str1.title())"
   ]
  },
  {
   "cell_type": "code",
   "execution_count": 4,
   "metadata": {},
   "outputs": [
    {
     "name": "stdout",
     "output_type": "stream",
     "text": [
      "dict_values([['Ajay', 'Amar'], [45, 65]])\n"
     ]
    }
   ],
   "source": [
    "students={'Names':['Ajay','Amar'],'Scores':[45,65]}\n",
    "print(students.values())"
   ]
  },
  {
   "cell_type": "code",
   "execution_count": 5,
   "metadata": {},
   "outputs": [
    {
     "data": {
      "text/plain": [
       "'gnirac pots dluohs i eb yaM'"
      ]
     },
     "execution_count": 5,
     "metadata": {},
     "output_type": "execute_result"
    }
   ],
   "source": [
    "str2='May be i should stop caring'\n",
    "str2[::-1]"
   ]
  },
  {
   "cell_type": "code",
   "execution_count": 6,
   "metadata": {},
   "outputs": [
    {
     "name": "stdout",
     "output_type": "stream",
     "text": [
      "7\n",
      "14\n",
      "21\n",
      "28\n",
      "35\n",
      "42\n",
      "49\n"
     ]
    }
   ],
   "source": [
    "for x in range (1,50):\n",
    "    if x%7==0:\n",
    "        print(x)"
   ]
  },
  {
   "cell_type": "code",
   "execution_count": 7,
   "metadata": {},
   "outputs": [
    {
     "name": "stdout",
     "output_type": "stream",
     "text": [
      "3\n"
     ]
    }
   ],
   "source": [
    "num=357\n",
    "print(len(str(num)))"
   ]
  },
  {
   "cell_type": "code",
   "execution_count": 8,
   "metadata": {},
   "outputs": [
    {
     "name": "stdout",
     "output_type": "stream",
     "text": [
      "peace sells\n"
     ]
    }
   ],
   "source": [
    "s1='peace'\n",
    "s2='sells'\n",
    "s3=(s1+' '+s2)\n",
    "print(s3)"
   ]
  },
  {
   "cell_type": "code",
   "execution_count": 9,
   "metadata": {},
   "outputs": [
    {
     "name": "stdout",
     "output_type": "stream",
     "text": [
      "[243, 33]\n"
     ]
    }
   ],
   "source": [
    "lis1=[243,476,59,667,33,44]\n",
    "x=list(filter(lambda y:y%3==0,lis1))\n",
    "print(x)"
   ]
  },
  {
   "cell_type": "code",
   "execution_count": 10,
   "metadata": {},
   "outputs": [
    {
     "name": "stdout",
     "output_type": "stream",
     "text": [
      "Grade=Pass\n",
      "Grade=B\n",
      "Grade=A\n",
      "Grade=EX\n"
     ]
    }
   ],
   "source": [
    "def myfunction(x):\n",
    "    if x >95:\n",
    "        print('Grade=EX')\n",
    "    elif x>85 and x<=95:\n",
    "        print('Grade=A')\n",
    "    elif x>70 and x<=85:\n",
    "        print('Grade=B')\n",
    "    else:\n",
    "        print('Grade=Pass')\n",
    "        \n",
    "myfunction(70)\n",
    "myfunction(80)\n",
    "myfunction(95)\n",
    "myfunction(98)"
   ]
  },
  {
   "cell_type": "code",
   "execution_count": 11,
   "metadata": {},
   "outputs": [],
   "source": [
    "import pandas as pd\n",
    "from pandas import Series,DataFrame\n",
    "import numpy as np"
   ]
  },
  {
   "cell_type": "code",
   "execution_count": 14,
   "metadata": {},
   "outputs": [
    {
     "name": "stdout",
     "output_type": "stream",
     "text": [
      "Greeting            [Hello, Hi]\n",
      "Apology     [Sorry, Forgive me]\n",
      "dtype: object\n"
     ]
    }
   ],
   "source": [
    "die1={'Greeting':['Hello','Hi'],'Apology':['Sorry','Forgive me']}\n",
    "ser1=pd.Series(die1)\n",
    "print(ser1)"
   ]
  },
  {
   "cell_type": "code",
   "execution_count": 15,
   "metadata": {},
   "outputs": [],
   "source": [
    "import pandas as pd\n",
    "from pandas import Series,DataFrame"
   ]
  },
  {
   "cell_type": "code",
   "execution_count": 16,
   "metadata": {},
   "outputs": [
    {
     "data": {
      "text/html": [
       "<div>\n",
       "<style scoped>\n",
       "    .dataframe tbody tr th:only-of-type {\n",
       "        vertical-align: middle;\n",
       "    }\n",
       "\n",
       "    .dataframe tbody tr th {\n",
       "        vertical-align: top;\n",
       "    }\n",
       "\n",
       "    .dataframe thead th {\n",
       "        text-align: right;\n",
       "    }\n",
       "</style>\n",
       "<table border=\"1\" class=\"dataframe\">\n",
       "  <thead>\n",
       "    <tr style=\"text-align: right;\">\n",
       "      <th></th>\n",
       "      <th>day</th>\n",
       "      <th>City</th>\n",
       "      <th>Temperature</th>\n",
       "      <th>windspeed</th>\n",
       "      <th>event</th>\n",
       "    </tr>\n",
       "  </thead>\n",
       "  <tbody>\n",
       "    <tr>\n",
       "      <th>0</th>\n",
       "      <td>01/01/2017</td>\n",
       "      <td>NY</td>\n",
       "      <td>32</td>\n",
       "      <td>6</td>\n",
       "      <td>rain</td>\n",
       "    </tr>\n",
       "    <tr>\n",
       "      <th>1</th>\n",
       "      <td>01/02/2017</td>\n",
       "      <td>NY</td>\n",
       "      <td>36</td>\n",
       "      <td>7</td>\n",
       "      <td>sunny</td>\n",
       "    </tr>\n",
       "    <tr>\n",
       "      <th>2</th>\n",
       "      <td>01/03/2017</td>\n",
       "      <td>NY</td>\n",
       "      <td>28</td>\n",
       "      <td>12</td>\n",
       "      <td>snow</td>\n",
       "    </tr>\n",
       "    <tr>\n",
       "      <th>3</th>\n",
       "      <td>01/04/2017</td>\n",
       "      <td>NY</td>\n",
       "      <td>33</td>\n",
       "      <td>7</td>\n",
       "      <td>sunny</td>\n",
       "    </tr>\n",
       "    <tr>\n",
       "      <th>4</th>\n",
       "      <td>01/01/2017</td>\n",
       "      <td>MU</td>\n",
       "      <td>90</td>\n",
       "      <td>5</td>\n",
       "      <td>sunny</td>\n",
       "    </tr>\n",
       "    <tr>\n",
       "      <th>5</th>\n",
       "      <td>01/02/2017</td>\n",
       "      <td>MU</td>\n",
       "      <td>85</td>\n",
       "      <td>12</td>\n",
       "      <td>fog</td>\n",
       "    </tr>\n",
       "    <tr>\n",
       "      <th>6</th>\n",
       "      <td>01/03/2017</td>\n",
       "      <td>MU</td>\n",
       "      <td>87</td>\n",
       "      <td>15</td>\n",
       "      <td>fog</td>\n",
       "    </tr>\n",
       "    <tr>\n",
       "      <th>7</th>\n",
       "      <td>01/04/2017</td>\n",
       "      <td>MU</td>\n",
       "      <td>92</td>\n",
       "      <td>5</td>\n",
       "      <td>rain</td>\n",
       "    </tr>\n",
       "    <tr>\n",
       "      <th>8</th>\n",
       "      <td>01/01/2017</td>\n",
       "      <td>PAR</td>\n",
       "      <td>45</td>\n",
       "      <td>20</td>\n",
       "      <td>sunny</td>\n",
       "    </tr>\n",
       "    <tr>\n",
       "      <th>9</th>\n",
       "      <td>01/02/2017</td>\n",
       "      <td>PAR</td>\n",
       "      <td>50</td>\n",
       "      <td>13</td>\n",
       "      <td>cloudy</td>\n",
       "    </tr>\n",
       "    <tr>\n",
       "      <th>10</th>\n",
       "      <td>01/03/2017</td>\n",
       "      <td>PAR</td>\n",
       "      <td>54</td>\n",
       "      <td>8</td>\n",
       "      <td>cloudy</td>\n",
       "    </tr>\n",
       "    <tr>\n",
       "      <th>11</th>\n",
       "      <td>01/04/2017</td>\n",
       "      <td>PAR</td>\n",
       "      <td>42</td>\n",
       "      <td>10</td>\n",
       "      <td>cloudy</td>\n",
       "    </tr>\n",
       "  </tbody>\n",
       "</table>\n",
       "</div>"
      ],
      "text/plain": [
       "           day City  Temperature  windspeed   event\n",
       "0   01/01/2017   NY           32          6    rain\n",
       "1   01/02/2017   NY           36          7   sunny\n",
       "2   01/03/2017   NY           28         12    snow\n",
       "3   01/04/2017   NY           33          7   sunny\n",
       "4   01/01/2017   MU           90          5   sunny\n",
       "5   01/02/2017   MU           85         12     fog\n",
       "6   01/03/2017   MU           87         15     fog\n",
       "7   01/04/2017   MU           92          5    rain\n",
       "8   01/01/2017  PAR           45         20   sunny\n",
       "9   01/02/2017  PAR           50         13  cloudy\n",
       "10  01/03/2017  PAR           54          8  cloudy\n",
       "11  01/04/2017  PAR           42         10  cloudy"
      ]
     },
     "execution_count": 16,
     "metadata": {},
     "output_type": "execute_result"
    }
   ],
   "source": [
    "df1=DataFrame({'day':('01/01/2017','01/02/2017','01/03/2017','01/04/2017','01/01/2017',\n",
    "                      '01/02/2017','01/03/2017','01/04/2017','01/01/2017','01/02/2017',\n",
    "                      '01/03/2017','01/04/2017'),\n",
    "               'City': (['NY','NY','NY','NY','MU','MU','MU','MU','PAR','PAR','PAR','PAR']),\n",
    "               'Temperature':[32,36,28,33,90,85,87,92,45,50,54,42],\n",
    "               'windspeed': [6,7,12,7,5,12,15,5,20,13,8,10],\n",
    "               'event':['rain','sunny','snow','sunny','sunny','fog','fog','rain','sunny','cloudy','cloudy','cloudy']})\n",
    "df1"
   ]
  },
  {
   "cell_type": "code",
   "execution_count": 17,
   "metadata": {},
   "outputs": [
    {
     "data": {
      "text/plain": [
       "City\n",
       "MU     88.50\n",
       "NY     32.25\n",
       "PAR    47.75\n",
       "Name: Temperature, dtype: float64"
      ]
     },
     "execution_count": 17,
     "metadata": {},
     "output_type": "execute_result"
    }
   ],
   "source": [
    "df1.groupby('City')['Temperature'].mean()"
   ]
  },
  {
   "cell_type": "code",
   "execution_count": 18,
   "metadata": {},
   "outputs": [
    {
     "data": {
      "text/plain": [
       "City\n",
       "MU     88.50\n",
       "NY     32.25\n",
       "PAR    47.75\n",
       "Name: Temperature, dtype: float64"
      ]
     },
     "execution_count": 18,
     "metadata": {},
     "output_type": "execute_result"
    }
   ],
   "source": [
    "df1.groupby('City').Temperature.mean()"
   ]
  },
  {
   "cell_type": "code",
   "execution_count": 19,
   "metadata": {},
   "outputs": [
    {
     "data": {
      "text/plain": [
       "5"
      ]
     },
     "execution_count": 19,
     "metadata": {},
     "output_type": "execute_result"
    }
   ],
   "source": [
    "arr=np.array([[7,19,15,14],[8,5,17,11],[10,19,5,18],[7,7,0,2]])\n",
    "arr[1,1]"
   ]
  },
  {
   "cell_type": "code",
   "execution_count": 20,
   "metadata": {},
   "outputs": [
    {
     "data": {
      "text/plain": [
       "'hello'"
      ]
     },
     "execution_count": 20,
     "metadata": {},
     "output_type": "execute_result"
    }
   ],
   "source": [
    "d={'k1':[{'nest_key':['this is deep',['hello']]}]}\n",
    "d\n",
    "d['k1']\n",
    "d['k1'][0]['nest_key'][1][0]\n",
    "d['k1'][0]['nest_key'][1][0]"
   ]
  },
  {
   "cell_type": "code",
   "execution_count": 21,
   "metadata": {},
   "outputs": [
    {
     "data": {
      "text/plain": [
       "[1, 2, [3, 4, 'Goodbye']]"
      ]
     },
     "execution_count": 21,
     "metadata": {},
     "output_type": "execute_result"
    }
   ],
   "source": [
    "listed=[1,2,[3,4,'hello']]\n",
    "listed[2][2] = 'Goodbye'\n",
    "listed"
   ]
  },
  {
   "cell_type": "code",
   "execution_count": 22,
   "metadata": {},
   "outputs": [
    {
     "name": "stdout",
     "output_type": "stream",
     "text": [
      "[45, 2, 34, 87, 76, 4, 5]\n"
     ]
    }
   ],
   "source": [
    "lis2=[12112,3434,45,2,3434,884,34,87,76,4,5]\n",
    "x= list(filter(lambda y: len(str(y))<=2,lis2))\n",
    "print(x)"
   ]
  },
  {
   "cell_type": "code",
   "execution_count": 23,
   "metadata": {},
   "outputs": [
    {
     "name": "stdout",
     "output_type": "stream",
     "text": [
      "45,2,34,87,76,4,5,"
     ]
    }
   ],
   "source": [
    "lis2=[12112,3434,45,2,3434,884,34,87,76,4,5]\n",
    "for x in lis2:\n",
    "    if len(str(x))<=2:\n",
    "        print(x, end=',')"
   ]
  },
  {
   "cell_type": "code",
   "execution_count": 24,
   "metadata": {},
   "outputs": [
    {
     "data": {
      "text/plain": [
       "[243, 33]"
      ]
     },
     "execution_count": 24,
     "metadata": {},
     "output_type": "execute_result"
    }
   ],
   "source": [
    "lis1=[243,476,59,667,33,44]\n",
    "y = list(filter(lambda x: x%3==0,lis1))\n",
    "y"
   ]
  },
  {
   "cell_type": "code",
   "execution_count": 25,
   "metadata": {},
   "outputs": [
    {
     "name": "stdout",
     "output_type": "stream",
     "text": [
      "The number of uppercase is 4\n",
      "The number of lowercase is 33\n"
     ]
    }
   ],
   "source": [
    "str1='Hello Mr.Edwin,how are you this fine Saturday?'\n",
    "upper=0\n",
    "lower=0\n",
    "for x in str1:\n",
    "    if (x.isupper()):\n",
    "        upper=upper+1\n",
    "    elif (x.islower()):\n",
    "        lower=lower+1\n",
    "        \n",
    "print('The number of uppercase is',upper)\n",
    "print('The number of lowercase is',lower)"
   ]
  },
  {
   "cell_type": "code",
   "execution_count": 26,
   "metadata": {},
   "outputs": [
    {
     "data": {
      "text/plain": [
       "False"
      ]
     },
     "execution_count": 26,
     "metadata": {},
     "output_type": "execute_result"
    }
   ],
   "source": [
    "str1='Hello Mr.Edwin,how are you this fine Saturday?'\n",
    "str1.isupper()"
   ]
  },
  {
   "cell_type": "code",
   "execution_count": 27,
   "metadata": {},
   "outputs": [
    {
     "data": {
      "text/plain": [
       "'hello mr.edwin,how are you this fine saturday?'"
      ]
     },
     "execution_count": 27,
     "metadata": {},
     "output_type": "execute_result"
    }
   ],
   "source": [
    "str1='Hello Mr.Edwin,how are you this fine Saturday?'\n",
    "str1.lower()"
   ]
  },
  {
   "cell_type": "code",
   "execution_count": 28,
   "metadata": {},
   "outputs": [
    {
     "name": "stdout",
     "output_type": "stream",
     "text": [
      "uppercase 4\n",
      "lowercase 33\n"
     ]
    }
   ],
   "source": [
    "def myfunction(str1):\n",
    "    upper=0\n",
    "    lower=0\n",
    "    for x in str1:\n",
    "        if (x.isupper()):\n",
    "            upper=upper+1\n",
    "        elif (x.islower()):\n",
    "            lower=lower+1\n",
    "    print(\"uppercase\",upper)\n",
    "    print(\"lowercase\",lower)\n",
    "myfunction('Hello Mr.Edwin,how are you this fine Saturday?')"
   ]
  },
  {
   "cell_type": "code",
   "execution_count": 29,
   "metadata": {},
   "outputs": [
    {
     "name": "stdout",
     "output_type": "stream",
     "text": [
      "The number of lower characters: 33\n",
      "The number of upper characters: 4\n"
     ]
    }
   ],
   "source": [
    "def myfunction(mystr1):\n",
    "    ucount=0\n",
    "    lcount=0\n",
    "    \n",
    "    for i in mystr1:\n",
    "        if(i.islower()):\n",
    "            lcount=lcount+1\n",
    "        elif(i.isupper()):\n",
    "            ucount=ucount+1\n",
    "    print(\"The number of lower characters:\",lcount)\n",
    "    print(\"The number of upper characters:\",ucount)\n",
    "    \n",
    "myfunction('Hello Mr. Rogers, how are you this fine Tuesday?')"
   ]
  },
  {
   "cell_type": "code",
   "execution_count": 30,
   "metadata": {},
   "outputs": [
    {
     "data": {
      "text/plain": [
       "True"
      ]
     },
     "execution_count": 30,
     "metadata": {},
     "output_type": "execute_result"
    }
   ],
   "source": [
    "def is_pangram(phrase):\n",
    "    alphabet = \"abcdefghijklmnopqrstuvwxyz\"\n",
    "    for x in alphabet:\n",
    "        if x not in phrase:\n",
    "            return False\n",
    "    return True\n",
    "\n",
    "is_pangram(\"abcdefghijklmnopqrstuvwxyz\")"
   ]
  },
  {
   "cell_type": "code",
   "execution_count": 31,
   "metadata": {},
   "outputs": [
    {
     "data": {
      "text/plain": [
       "False"
      ]
     },
     "execution_count": 31,
     "metadata": {},
     "output_type": "execute_result"
    }
   ],
   "source": [
    "str2='The Quick fox jumps over the lazy dog'\n",
    "def pangram(str2):\n",
    "    alphabet='abcdefghijklmnopqrstuvwxyz'\n",
    "    for x in str2:\n",
    "        if x not in alphabet:\n",
    "            return False\n",
    "        else:\n",
    "            return True\n",
    "pangram('The Quick fox jumps over the lazy dog')"
   ]
  },
  {
   "cell_type": "code",
   "execution_count": 32,
   "metadata": {},
   "outputs": [
    {
     "data": {
      "text/plain": [
       "False"
      ]
     },
     "execution_count": 32,
     "metadata": {},
     "output_type": "execute_result"
    }
   ],
   "source": [
    "str1='RACECARE'\n",
    "def myfunction(str1):\n",
    "    if str1 == str1[::-1]:\n",
    "        return True\n",
    "    else:\n",
    "        return False\n",
    "myfunction('RACECARE')"
   ]
  },
  {
   "cell_type": "code",
   "execution_count": 33,
   "metadata": {},
   "outputs": [
    {
     "data": {
      "text/plain": [
       "'RACECAR'"
      ]
     },
     "execution_count": 33,
     "metadata": {},
     "output_type": "execute_result"
    }
   ],
   "source": [
    "str1='RACECAR'\n",
    "y = str1[::-1]\n",
    "y\n",
    "str1"
   ]
  },
  {
   "cell_type": "code",
   "execution_count": 34,
   "metadata": {},
   "outputs": [
    {
     "data": {
      "text/plain": [
       "'HelloWorld'"
      ]
     },
     "execution_count": 34,
     "metadata": {},
     "output_type": "execute_result"
    }
   ],
   "source": [
    "first_name = 'Hello'\n",
    "last_name = 'World'\n",
    "first_name + last_name"
   ]
  },
  {
   "cell_type": "code",
   "execution_count": 35,
   "metadata": {},
   "outputs": [
    {
     "data": {
      "text/plain": [
       "['hello', 'world', 43, 56]"
      ]
     },
     "execution_count": 35,
     "metadata": {},
     "output_type": "execute_result"
    }
   ],
   "source": [
    "lis=['hai','world',43,56]\n",
    "lis[0]='hello'\n",
    "lis"
   ]
  },
  {
   "cell_type": "code",
   "execution_count": 36,
   "metadata": {},
   "outputs": [
    {
     "data": {
      "text/plain": [
       "{'Eddy': 13, 'Maria': 44, 'Jas': 21, 3: {'alpha': 26}}"
      ]
     },
     "execution_count": 36,
     "metadata": {},
     "output_type": "execute_result"
    }
   ],
   "source": [
    "dic={'Eddy':13,'Maria':44,'Jas':21}\n",
    "dic[3] = {'alpha':26}\n",
    "dic"
   ]
  },
  {
   "cell_type": "code",
   "execution_count": 37,
   "metadata": {},
   "outputs": [
    {
     "name": "stdout",
     "output_type": "stream",
     "text": [
      "0\n",
      "2\n",
      "4\n",
      "6\n",
      "8\n",
      "10\n"
     ]
    }
   ],
   "source": [
    "for x in range(0,11):\n",
    "    if x%2==0:\n",
    "        print(x)"
   ]
  },
  {
   "cell_type": "code",
   "execution_count": 38,
   "metadata": {},
   "outputs": [
    {
     "name": "stdout",
     "output_type": "stream",
     "text": [
      "1\n",
      "2\n",
      "Python\n",
      "4\n",
      "Coding\n",
      "Python\n",
      "7\n",
      "8\n",
      "Python\n",
      "Coding\n",
      "11\n",
      "Python\n",
      "13\n",
      "14\n",
      "Python coding\n",
      "16\n",
      "17\n",
      "Python\n",
      "19\n",
      "Coding\n",
      "Python\n",
      "22\n",
      "23\n",
      "Python\n",
      "Coding\n"
     ]
    }
   ],
   "source": [
    "for x in range(1,26):\n",
    "    if x%3==0 and x%5==0:\n",
    "        print(\"Python coding\")\n",
    "    elif x%3==0:\n",
    "        print(\"Python\")\n",
    "    elif x%5==0:\n",
    "        print(\"Coding\")\n",
    "    else:\n",
    "        print(x)"
   ]
  },
  {
   "cell_type": "code",
   "execution_count": 39,
   "metadata": {},
   "outputs": [
    {
     "name": "stdout",
     "output_type": "stream",
     "text": [
      "Hello World\n",
      "Hello World\n",
      "Hello World\n",
      "Hello World\n",
      "Hello World\n"
     ]
    }
   ],
   "source": [
    "count=6\n",
    "while count<=10:\n",
    "    count=count+1\n",
    "    print(\"Hello World\")"
   ]
  },
  {
   "cell_type": "code",
   "execution_count": 40,
   "metadata": {},
   "outputs": [
    {
     "name": "stdout",
     "output_type": "stream",
     "text": [
      "Hello World\n",
      "Hello World\n",
      "Hello World\n",
      "Hello World\n",
      "Hello World\n"
     ]
    }
   ],
   "source": [
    "count=6\n",
    "while count<=10:\n",
    "    count=count+1\n",
    "    print(\"Hello World\")"
   ]
  },
  {
   "cell_type": "code",
   "execution_count": 41,
   "metadata": {},
   "outputs": [
    {
     "name": "stdout",
     "output_type": "stream",
     "text": [
      "1\n",
      "2\n",
      "3\n",
      "4\n",
      "6\n",
      "8\n",
      "12\n",
      "24\n"
     ]
    }
   ],
   "source": [
    "for x in range(1,25):\n",
    "    if 24%x==0:\n",
    "        print(x)"
   ]
  },
  {
   "cell_type": "code",
   "execution_count": 42,
   "metadata": {},
   "outputs": [
    {
     "name": "stdout",
     "output_type": "stream",
     "text": [
      "A\n",
      "AA\n",
      "AAA\n",
      "AAAA\n",
      "AAAAA\n",
      "AAAA\n",
      "AAA\n",
      "AA\n",
      "A\n"
     ]
    }
   ],
   "source": [
    "for i in range(1,6):\n",
    "    print('A'*i)\n",
    "for j in range(4,0,-1):\n",
    "    print('A'*j)"
   ]
  },
  {
   "cell_type": "code",
   "execution_count": 43,
   "metadata": {},
   "outputs": [
    {
     "name": "stdout",
     "output_type": "stream",
     "text": [
      "A\n",
      "BB\n",
      "CCC\n",
      "DDDD\n",
      "EEEEE\n",
      "FFFFFF\n",
      "GGGGGGG\n",
      "HHHHHHHH\n",
      "IIIIIIIII\n",
      "JJJJJJJJJJ\n",
      "KKKKKKKKKKK\n",
      "LLLLLLLLLLLL\n",
      "MMMMMMMMMMMMM\n",
      "NNNNNNNNNNNNNN\n",
      "OOOOOOOOOOOOOOO\n",
      "PPPPPPPPPPPPPPPP\n",
      "QQQQQQQQQQQQQQQQQ\n",
      "RRRRRRRRRRRRRRRRRR\n",
      "SSSSSSSSSSSSSSSSSSS\n",
      "TTTTTTTTTTTTTTTTTTTT\n",
      "UUUUUUUUUUUUUUUUUUUUU\n",
      "VVVVVVVVVVVVVVVVVVVVVV\n",
      "WWWWWWWWWWWWWWWWWWWWWWW\n",
      "XXXXXXXXXXXXXXXXXXXXXXXX\n",
      "YYYYYYYYYYYYYYYYYYYYYYYYY\n",
      "ZZZZZZZZZZZZZZZZZZZZZZZZZZ\n"
     ]
    }
   ],
   "source": [
    "x='ABCDEFGHIJKLMNOPQRSTUVWXYZ'\n",
    "n=0\n",
    "for i in x:\n",
    "    n=n+1\n",
    "    print(i*n)"
   ]
  },
  {
   "cell_type": "markdown",
   "metadata": {},
   "source": []
  },
  {
   "cell_type": "code",
   "execution_count": 44,
   "metadata": {},
   "outputs": [
    {
     "name": "stdout",
     "output_type": "stream",
     "text": [
      "hydrogen carbon\n"
     ]
    }
   ],
   "source": [
    "d=[{'name':'hydrogen','number':1,'weight':1.0},{'name':'carbon','number':2,'weight':4.002}]\n",
    "print(d[0]['name'],d[1]['name'])"
   ]
  },
  {
   "cell_type": "code",
   "execution_count": 45,
   "metadata": {},
   "outputs": [
    {
     "data": {
      "text/plain": [
       "1"
      ]
     },
     "execution_count": 45,
     "metadata": {},
     "output_type": "execute_result"
    }
   ],
   "source": [
    "d[0]['number']"
   ]
  },
  {
   "cell_type": "code",
   "execution_count": 46,
   "metadata": {},
   "outputs": [
    {
     "name": "stdout",
     "output_type": "stream",
     "text": [
      "6.07\n",
      "12.14\n"
     ]
    }
   ],
   "source": [
    "print(d[0]['number']*6.07)\n",
    "print(d[1]['number']*6.07)"
   ]
  },
  {
   "cell_type": "code",
   "execution_count": 47,
   "metadata": {},
   "outputs": [
    {
     "name": "stdout",
     "output_type": "stream",
     "text": [
      "6.07\n",
      "12.14\n"
     ]
    }
   ],
   "source": [
    "x = d[0]['number']\n",
    "y = d[1]['number']\n",
    "print(x*6.07)\n",
    "print(y*6.07)"
   ]
  },
  {
   "cell_type": "code",
   "execution_count": 48,
   "metadata": {},
   "outputs": [
    {
     "data": {
      "text/plain": [
       "[{'name': 'hydrogen', 'number': 1, 'weight': 1.0},\n",
       " {'name': 'carbon', 'number': 2, 'weight': 4.002}]"
      ]
     },
     "execution_count": 48,
     "metadata": {},
     "output_type": "execute_result"
    }
   ],
   "source": [
    "d=[{'name':'hydrogen','number':1,'weight':1.0},{'name':'carbon','number':2,'weight':4.002}]\n",
    "d"
   ]
  },
  {
   "cell_type": "code",
   "execution_count": 52,
   "metadata": {},
   "outputs": [
    {
     "name": "stdout",
     "output_type": "stream",
     "text": [
      "{'name': 'hydrogen', 'number': 1, 'weight': 1.0}\n",
      "{'name': 'carbon', 'number': 2, 'weight': 4.002}\n"
     ]
    }
   ],
   "source": [
    "def myfunction(d):\n",
    "    for x in d:\n",
    "        if x=='name':'carbon'\n",
    "        print(x)\n",
    "myfunction([{'name':'hydrogen','number':1,'weight':1.0},{'name':'carbon','number':2,'weight':4.002}])"
   ]
  },
  {
   "cell_type": "code",
   "execution_count": 53,
   "metadata": {},
   "outputs": [
    {
     "name": "stdout",
     "output_type": "stream",
     "text": [
      "[False, True]\n"
     ]
    }
   ],
   "source": [
    "list1=[d[0]['name'],d[1]['name']]\n",
    "list1\n",
    "def myfunction(x):\n",
    "    if x=='carbon':\n",
    "        return True\n",
    "    else:\n",
    "        return False\n",
    "res=list(map(myfunction,list1))\n",
    "print(res)"
   ]
  },
  {
   "cell_type": "code",
   "execution_count": 54,
   "metadata": {},
   "outputs": [
    {
     "data": {
      "text/plain": [
       "<map at 0x23226b194a8>"
      ]
     },
     "execution_count": 54,
     "metadata": {},
     "output_type": "execute_result"
    }
   ],
   "source": [
    "d=[{'name':'hydrogen','number':1,'weight':1.0},{'name':'carbon','number':2,'weight':4.002}]\n",
    "x = map(d,('carbon'))\n",
    "x"
   ]
  },
  {
   "cell_type": "code",
   "execution_count": 55,
   "metadata": {},
   "outputs": [
    {
     "data": {
      "text/plain": [
       "<map at 0x23226b48438>"
      ]
     },
     "execution_count": 55,
     "metadata": {},
     "output_type": "execute_result"
    }
   ],
   "source": [
    "map('name',d)"
   ]
  },
  {
   "cell_type": "code",
   "execution_count": 56,
   "metadata": {},
   "outputs": [
    {
     "data": {
      "text/plain": [
       "{'name': ['alpha', 'beta', 'gamma', 'delta'],\n",
       " 'Age': [23, 45, 12, 65],\n",
       " 'Marks': [34.54, 89.3, 98.23, 99]}"
      ]
     },
     "execution_count": 56,
     "metadata": {},
     "output_type": "execute_result"
    }
   ],
   "source": [
    "dic2={'name':['alpha','beta','gamma','delta'],\"Age\":[23,45,12,65],\"Marks\":[34.54,89.3,98.23,99]}\n",
    "dic2"
   ]
  },
  {
   "cell_type": "code",
   "execution_count": 57,
   "metadata": {},
   "outputs": [
    {
     "data": {
      "text/plain": [
       "12"
      ]
     },
     "execution_count": 57,
     "metadata": {},
     "output_type": "execute_result"
    }
   ],
   "source": [
    "dic2['Age'][2]"
   ]
  },
  {
   "cell_type": "code",
   "execution_count": 58,
   "metadata": {},
   "outputs": [
    {
     "data": {
      "text/plain": [
       "(12, 45)"
      ]
     },
     "execution_count": 58,
     "metadata": {},
     "output_type": "execute_result"
    }
   ],
   "source": [
    "dic2['Age'][2],dic2['Age'][1]"
   ]
  },
  {
   "cell_type": "code",
   "execution_count": 59,
   "metadata": {},
   "outputs": [
    {
     "data": {
      "text/plain": [
       "([34.54, 98.23], [23, 12])"
      ]
     },
     "execution_count": 59,
     "metadata": {},
     "output_type": "execute_result"
    }
   ],
   "source": [
    "dic2['Marks'][0::2], dic2['Age'][0::2]"
   ]
  },
  {
   "cell_type": "code",
   "execution_count": 61,
   "metadata": {},
   "outputs": [
    {
     "data": {
      "text/plain": [
       "[6, 2, 3, 4, 5, 1]"
      ]
     },
     "execution_count": 61,
     "metadata": {},
     "output_type": "execute_result"
    }
   ],
   "source": [
    "list1=[1,2,3,4,5,6] #swap first and last element\n",
    "list1[0],list1[-1] = list1[-1],list1[0]\n",
    "list1"
   ]
  },
  {
   "cell_type": "code",
   "execution_count": 66,
   "metadata": {},
   "outputs": [
    {
     "data": {
      "text/plain": [
       "10"
      ]
     },
     "execution_count": 66,
     "metadata": {},
     "output_type": "execute_result"
    }
   ],
   "source": [
    "len(list1) #number of elements in a list:"
   ]
  },
  {
   "cell_type": "code",
   "execution_count": 63,
   "metadata": {},
   "outputs": [],
   "source": [
    "import random"
   ]
  },
  {
   "cell_type": "code",
   "execution_count": 64,
   "metadata": {},
   "outputs": [
    {
     "name": "stdout",
     "output_type": "stream",
     "text": [
      "[9, 10, 8, 3, 4, 2, 6, 1, 5, 7]\n"
     ]
    }
   ],
   "source": [
    "list1=[1,2,3,4,5,6,7,8,9,10];\n",
    "x=random.shuffle(list1)\n",
    "print(list1)"
   ]
  },
  {
   "cell_type": "code",
   "execution_count": 65,
   "metadata": {},
   "outputs": [
    {
     "data": {
      "text/plain": [
       "['Hello', 'Kaaviya', 'How', 'are', 'you', 'doing']"
      ]
     },
     "execution_count": 65,
     "metadata": {},
     "output_type": "execute_result"
    }
   ],
   "source": [
    "str1 = 'Hello Kaaviya How are you doing'\n",
    "str1.split()"
   ]
  }
 ],
 "metadata": {
  "kernelspec": {
   "display_name": "Python 3",
   "language": "python",
   "name": "python3"
  },
  "language_info": {
   "codemirror_mode": {
    "name": "ipython",
    "version": 3
   },
   "file_extension": ".py",
   "mimetype": "text/x-python",
   "name": "python",
   "nbconvert_exporter": "python",
   "pygments_lexer": "ipython3",
   "version": "3.7.3"
  }
 },
 "nbformat": 4,
 "nbformat_minor": 2
}
